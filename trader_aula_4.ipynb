{
 "cells": [
  {
   "cell_type": "code",
   "execution_count": 11,
   "metadata": {},
   "outputs": [],
   "source": [
    "import requests\n",
    "import json\n",
    "import pandas as pd\n",
    "import time"
   ]
  },
  {
   "cell_type": "code",
   "execution_count": 12,
   "metadata": {},
   "outputs": [
    {
     "data": {
      "text/plain": [
       "<Response [200]>"
      ]
     },
     "execution_count": 12,
     "metadata": {},
     "output_type": "execute_result"
    }
   ],
   "source": [
    "bitfinex_ltc = 'https://api.bitfinex.com/v1/pubticker/ltcbtc'\n",
    "data_bitfinex_ltc = requests.get(url=bitfinex_ltc)\n",
    "data_bitfinex_ltc"
   ]
  },
  {
   "cell_type": "code",
   "execution_count": 13,
   "metadata": {},
   "outputs": [
    {
     "data": {
      "text/plain": [
       "b'{\"mid\":\"0.00675935\",\"bid\":\"0.0067568\",\"ask\":\"0.0067619\",\"last_price\":\"0.0067609\",\"low\":\"0.0067172\",\"high\":\"0.0068368\",\"volume\":\"3804.951559430000002\",\"timestamp\":\"1573061123.4437103\"}'"
      ]
     },
     "execution_count": 13,
     "metadata": {},
     "output_type": "execute_result"
    }
   ],
   "source": [
    "binary_data = data_bitfinex_ltc.content\n",
    "binary_data"
   ]
  },
  {
   "cell_type": "code",
   "execution_count": 14,
   "metadata": {},
   "outputs": [
    {
     "data": {
      "text/plain": [
       "{'mid': '0.00675935',\n",
       " 'bid': '0.0067568',\n",
       " 'ask': '0.0067619',\n",
       " 'last_price': '0.0067609',\n",
       " 'low': '0.0067172',\n",
       " 'high': '0.0068368',\n",
       " 'volume': '3804.951559430000002',\n",
       " 'timestamp': '1573061123.4437103'}"
      ]
     },
     "execution_count": 14,
     "metadata": {},
     "output_type": "execute_result"
    }
   ],
   "source": [
    "output_bitfinex_ltc = json.loads(binary_data)\n",
    "output_bitfinex_ltc"
   ]
  },
  {
   "cell_type": "code",
   "execution_count": 15,
   "metadata": {},
   "outputs": [
    {
     "data": {
      "text/plain": [
       "'0.0067568'"
      ]
     },
     "execution_count": 15,
     "metadata": {},
     "output_type": "execute_result"
    }
   ],
   "source": [
    "output_bitfinex_ltc['bid']"
   ]
  },
  {
   "cell_type": "code",
   "execution_count": 16,
   "metadata": {},
   "outputs": [
    {
     "data": {
      "text/plain": [
       "'0.0067619'"
      ]
     },
     "execution_count": 16,
     "metadata": {},
     "output_type": "execute_result"
    }
   ],
   "source": [
    "output_bitfinex_ltc['ask']"
   ]
  }
 ],
 "metadata": {
  "kernelspec": {
   "display_name": "Python 3",
   "language": "python",
   "name": "python3"
  },
  "language_info": {
   "codemirror_mode": {
    "name": "ipython",
    "version": 3
   },
   "file_extension": ".py",
   "mimetype": "text/x-python",
   "name": "python",
   "nbconvert_exporter": "python",
   "pygments_lexer": "ipython3",
   "version": "3.7.1"
  }
 },
 "nbformat": 4,
 "nbformat_minor": 2
}
