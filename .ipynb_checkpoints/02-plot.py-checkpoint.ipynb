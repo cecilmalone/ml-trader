{
 "cells": [
  {
   "cell_type": "code",
   "execution_count": 1,
   "metadata": {},
   "outputs": [
    {
     "name": "stdout",
     "output_type": "stream",
     "text": [
      "('0.0067593', '0.006764')\n"
     ]
    }
   ],
   "source": [
    "import requests, json\n",
    "import matplotlib.pyplot as plt\n",
    "import pandas as pd\n",
    "import time\n",
    "\n",
    "fig = plt.figure(figsize=(10,10))\n",
    "ax = fig.gca()\n",
    "\n",
    "grava = open('tickers.csv', 'w')\n",
    "grava.write('bid,ask\\n')\n",
    "grava.close()\n",
    "\n",
    "def get_tickers():\n",
    "    bitfinex_ltc = 'https://api.bitfinex.com/v1/pubticker/ltcbtc'\n",
    "    data_bitfinex_ltc = requests.get(url=bitfinex_ltc)\n",
    "    binary_bitfinex_ltc = data_bitfinex_ltc.content\n",
    "    output_bitfinex_ltc = json.loads(binary_bitfinex_ltc)\n",
    "    \n",
    "    grava = open('tickers.csv', 'a')\n",
    "    grava.write(str(output_bitfinex_ltc['bid']) + ',' + str(output_bitfinex_ltc['ask']) + '\\n')\n",
    "    grava.close()\n",
    "    \n",
    "def plot():\n",
    "    df = pd.read_csv('tickers.csv')\n",
    "    \n",
    "    if len(df) > 1:\n",
    "        bid = df['bid']\n",
    "        ask = df['ask']\n",
    "        ax.clear()\n",
    "        ax.plot(bid, label = \"Bid - Venda LTC \"+str(float(bid[-1:])))\n",
    "        ax.plot(ask, label = \"Ask - Compra LTC \"+str(float(ask[-1:])))\n",
    "        plt.legend()\n",
    "        plt.pause(2)\n",
    "        \n",
    "while True:\n",
    "    try:\n",
    "        get_tickers()\n",
    "    except:\n",
    "        print('Erro no servidor')\n",
    "        time.sleep(5)\n",
    "        \n",
    "    try:\n",
    "        plot()\n",
    "    except:\n",
    "        print('Erro na plotagem')\n",
    "        time.sleep(1)"
   ]
  },
  {
   "cell_type": "code",
   "execution_count": null,
   "metadata": {},
   "outputs": [],
   "source": []
  }
 ],
 "metadata": {
  "kernelspec": {
   "display_name": "Python 3",
   "language": "python",
   "name": "python3"
  },
  "language_info": {
   "codemirror_mode": {
    "name": "ipython",
    "version": 3
   },
   "file_extension": ".py",
   "mimetype": "text/x-python",
   "name": "python",
   "nbconvert_exporter": "python",
   "pygments_lexer": "ipython3",
   "version": "3.7.1"
  }
 },
 "nbformat": 4,
 "nbformat_minor": 2
}
